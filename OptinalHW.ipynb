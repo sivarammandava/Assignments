{
 "cells": [
  {
   "cell_type": "code",
   "execution_count": 1,
   "metadata": {},
   "outputs": [
    {
     "name": "stderr",
     "output_type": "stream",
     "text": [
      "[nltk_data] Downloading package punkt to\n",
      "[nltk_data]     /Users/sivarammandava/nltk_data...\n",
      "[nltk_data]   Package punkt is already up-to-date!\n",
      "[nltk_data] Downloading package stopwords to\n",
      "[nltk_data]     /Users/sivarammandava/nltk_data...\n",
      "[nltk_data]   Package stopwords is already up-to-date!\n",
      "Using TensorFlow backend.\n"
     ]
    }
   ],
   "source": [
    "# Name: Sivaram Mandava\n",
    "# NetID: sxm169331\n",
    "\n",
    "import pandas as pd\n",
    "import numpy as np\n",
    "import nltk\n",
    "from nltk.corpus import stopwords\n",
    "nltk.download('punkt')\n",
    "nltk.download('stopwords')\n",
    "from nltk.tokenize import word_tokenize\n",
    "from sklearn.feature_extraction.text import TfidfVectorizer\n",
    "from sklearn.naive_bayes import MultinomialNB\n",
    "from sklearn.metrics import accuracy_score, confusion_matrix\n",
    "from sklearn.linear_model import LogisticRegression\n",
    "from sklearn.neural_network import MLPClassifier\n",
    "from sklearn.model_selection import train_test_split\n",
    "from keras.models import Sequential\n",
    "from keras.layers import Dense, Dropout, Activation\n",
    "from keras.layers import Embedding\n",
    "from keras.layers import Conv2D, GlobalMaxPooling1D\n",
    "from keras.preprocessing.text import text_to_word_sequence\n",
    "import matplotlib.pyplot as plt\n",
    "from warnings import simplefilter\n",
    "simplefilter(action='ignore', category=FutureWarning)\n",
    "\n",
    "stopWords = stopwords.words('english')\n"
   ]
  },
  {
   "cell_type": "code",
   "execution_count": 2,
   "metadata": {},
   "outputs": [
    {
     "name": "stdout",
     "output_type": "stream",
     "text": [
      "[\"You can't relate with them, hell you barely can understand them.  \"\n",
      " \"The instructions didn't explain that a microphone jack could be used.\"\n",
      " \"I liked the way Dustin Hoffman's character was ready to do just about everything to stay with his son.  \"\n",
      " 'I really loved the story line and the poler bear was kinda cute.But if anyone has a question about Fort Steele, just ask away:)  '\n",
      " 'Unfortunately, inexperience of direction meant that scene after scene passed with little in the way of dramatic tension or conflict.  '\n",
      " 'I love this device.'\n",
      " 'The headset fulfills my requirements so I am happy with my purchase.'\n",
      " 'I knew when I saw the film that more great things were to come from this gifted actor.  '\n",
      " \"There was a few pathetic attempts to give the characters some depth, but it didn't really work into the rest of the plot.  \"\n",
      " 'I recently had problems where I could not stay connected for more than 10 minutes before being disconnected.']\n",
      "[0 0 1 1 0 1 1 1 0 0]\n",
      "[\"I'd love to go back.\" 'stay away from this store, be careful.'\n",
      " 'I could care less... The interior is just beautiful.'\n",
      " 'O my gosh the best phone I have ever had.'\n",
      " 'We have gotten a lot of compliments on it.'\n",
      " \"Ordered burger rare came in we'll done.\"\n",
      " 'The decor is nice, and the piano music soundtrack is pleasant.'\n",
      " 'This is truly an art movie--it actually has a lot of art in it.  '\n",
      " 'Excellent product for the price.' 'This is a great little item.']\n",
      "[1 0 1 1 1 0 1 1 1 1]\n"
     ]
    }
   ],
   "source": [
    "# Question-1.\n",
    "DF = pd.read_csv('train.csv')\n",
    "trainX = DF.loc[:, 'sentence'].values\n",
    "print(trainX[:10])\n",
    "trainY = DF.loc[:, 'label'].values\n",
    "print(trainY[:10])\n",
    "\n",
    "DF = pd.read_csv('test.csv')\n",
    "testX = DF.loc[:, 'sentence'].values\n",
    "print(testX[:10])\n",
    "testY = DF.loc[:, 'label'].values\n",
    "print(testY[:10])"
   ]
  },
  {
   "cell_type": "code",
   "execution_count": 4,
   "metadata": {},
   "outputs": [
    {
     "data": {
      "image/png": "[encoded data removed]",
      "text/plain": [
       "<Figure size 432x288 with 1 Axes>"
      ]
     },
     "metadata": {
      "needs_background": "light"
     },
     "output_type": "display_data"
    },
    {
     "data": {
      "image/png": "[encoded data removed]",
      "text/plain": [
       "<Figure size 432x288 with 1 Axes>"
      ]
     },
     "metadata": {
      "needs_background": "light"
     },
     "output_type": "display_data"
    }
   ],
   "source": [
    "plt.hist(trainY, density = True, color = 'purple')\n",
    "plt.xlabel('Train Data Labels')\n",
    "plt.ylabel('Label count')\n",
    "plt.show()\n",
    "plt.hist(testY, density = True, color = 'purple')\n",
    "plt.xlabel('Test Data Labels')\n",
    "plt.ylabel('Label count')\n",
    "plt.show()"
   ]
  },
  {
   "cell_type": "code",
   "execution_count": 15,
   "metadata": {},
   "outputs": [],
   "source": [
    "def tokenize(text):\n",
    "    tokens = word_tokenize(text)\n",
    "    tokens = [word for word in tokens if not word in stopWords]\n",
    "    return tokens\n",
    "\n",
    "vect = TfidfVectorizer(tokenizer=tokenize, use_idf=True)\n",
    "train_vector = vect.fit_transform(trainX)\n",
    "test_vector = vect.transform(testX)"
   ]
  },
  {
   "cell_type": "code",
   "execution_count": 6,
   "metadata": {},
   "outputs": [
    {
     "name": "stdout",
     "output_type": "stream",
     "text": [
      "Naive Bayes shows: 0.8018181818181818\n",
      "[[215  37]\n",
      " [ 72 226]]\n"
     ]
    }
   ],
   "source": [
    "Model = MultinomialNB()\n",
    "Model.fit(train_vector, trainY)\n",
    "predicted = Model.predict(test_vector)\n",
    "print(\"Naive Bayes shows:\", accuracy_score(predicted, testY))\n",
    "print(confusion_matrix(predicted, testY))"
   ]
  },
  {
   "cell_type": "code",
   "execution_count": 7,
   "metadata": {},
   "outputs": [
    {
     "name": "stdout",
     "output_type": "stream",
     "text": [
      "Logistic Regression: 0.7818181818181819\n",
      "[[234  67]\n",
      " [ 53 196]]\n"
     ]
    }
   ],
   "source": [
    "Model = LogisticRegression(solver='lbfgs')\n",
    "Model.fit(train_vector, trainY)\n",
    "predicted = Model.predict(test_vector)\n",
    "print(\"Logistic Regression:\", accuracy_score(predicted, testY))\n",
    "print(confusion_matrix(predicted, testY))"
   ]
  },
  {
   "cell_type": "code",
   "execution_count": 8,
   "metadata": {},
   "outputs": [
    {
     "name": "stdout",
     "output_type": "stream",
     "text": [
      "Neural Network ('For Relu'): 0.7636363636363637\n",
      "[[215  58]\n",
      " [ 72 205]]\n",
      "Neural Network ('FOr Identity'): 0.7454545454545455\n",
      "[[210  63]\n",
      " [ 77 200]]\n",
      "Neural Network ('For Logistic'): 0.7636363636363637\n",
      "[[215  58]\n",
      " [ 72 205]]\n",
      "Neural Network ('For TanH'): 0.7418181818181818\n",
      "[[210  65]\n",
      " [ 77 198]]\n"
     ]
    }
   ],
   "source": [
    "# Question-6.\n",
    "Model = MLPClassifier(activation='relu', max_iter=500)\n",
    "Model.fit(train_vector, trainY)\n",
    "predicted = Model.predict(test_vector)\n",
    "print(\"Neural Network ('For Relu'):\", accuracy_score(predicted, testY))\n",
    "print(confusion_matrix(predicted, testY))\n",
    "\n",
    "Model = MLPClassifier(activation='identity', max_iter=500)\n",
    "Model.fit(train_vector, trainY)\n",
    "predicted = Model.predict(test_vector)\n",
    "print(\"Neural Network ('FOr Identity'):\", accuracy_score(predicted, testY))\n",
    "print(confusion_matrix(predicted, testY))\n",
    "\n",
    "Model = MLPClassifier(activation='logistic', max_iter=500)\n",
    "Model.fit(train_vector, trainY)\n",
    "predicted = Model.predict(test_vector)\n",
    "print(\"Neural Network ('For Logistic'):\", accuracy_score(predicted, testY))\n",
    "print(confusion_matrix(predicted, testY))\n",
    "\n",
    "Model = MLPClassifier(activation='tanh', max_iter=500)\n",
    "Model.fit(train_vector, trainY)\n",
    "predicted = Model.predict(test_vector)\n",
    "print(\"Neural Network ('For TanH'):\", accuracy_score(predicted, testY))\n",
    "print(confusion_matrix(predicted, testY))"
   ]
  },
  {
   "cell_type": "code",
   "execution_count": 9,
   "metadata": {},
   "outputs": [
    {
     "data": {
      "text/plain": [
       "\"\\nThe Various Results:\\nFor the Naive Bayes Confusion Matrix: [[215  37]\\n                              [ 72 226]]\\nFor the Naive Bayes Accuracy Score: 0.8018181818181818\\n\\nFor the Logistic Regression Confusion Matrix: [[234  67]\\n                                      [ 53 196]]\\nFOr the Logistic Regression Accuracy Score: 0.7818181818181819\\n\\n\\nNeural Networks: \\nFOr iterations = 200.\\n\\nFor the Neural Network Confusion Matrix: [[213  59]\\n                                 [ 74 204]]\\nFor the Neural Network ('FOr relu') Accuracy Score: 0.7581818181818182\\n\\nFor the Neural Network Confusion Matrix: [[211  64]\\n                                 [ 76 199]]\\nFor the Neural Network ('FOr identity') Accuracy Score: 0.7454545454545455\\n\\nFor the Neural Network Confusion Matrix: [[216  56]\\n                                 [ 71 207]]\\nFor the Neural Network ('For logistic') Accuracy Score: 0.769090909090909\\n\\nFor the Neural Network Confusion Matrix: [[210  64]\\n                                 [ 77 199]]\\nFor the Neural Network ('For tanh') Accuracy Score: 0.7436363636363637\\n\\n\\nFor iterations = 500\\nFor the Neural Network Confusion Matrix: [[213  58]\\n                                 [ 74 205]]\\nFor the Neural Network ('For relu') Accuracy Score: 0.76\\n\\nFor the Neural Network Confusion Matrix: [[212  64]\\n                                 [ 75 199]]\\nFor the Neural Network ('For the identity') Accuracy Score: 0.7472727272727273\\n\\nFor the Neural Network Confusion Matrix: [[216  59]\\n                                 [ 71 204]]\\nFor the Neural Network ('For the logistic') Accuracy Score: 0.7636363636363637\\n\\nFor the Neural Network Confusion Matrix: [[209  63]\\n                                 [ 78 200]]\\nFor the Neural Network ('For the tanh') Accuracy Score: 0.7436363636363637\\n\\n\\n\\nBased on this we can see that Naive Bayes gives us the best accuracy. It gives us the best ratio of true values \\nagainst the False values. As you can see the confusion matrix for most of them are similar. But when it comes to Naive Bayes and \\nLogistic Regression it is a little different. based on how you want the output, you should decide what method to follow. \\n\\n\""
      ]
     },
     "execution_count": 9,
     "metadata": {},
     "output_type": "execute_result"
    }
   ],
   "source": [
    "# Question-7.\n",
    "'''\n",
    "The Various Results:\n",
    "For the Naive Bayes Confusion Matrix: [[215  37]\n",
    "                              [ 72 226]]\n",
    "For the Naive Bayes Accuracy Score: 0.8018181818181818\n",
    "\n",
    "For the Logistic Regression Confusion Matrix: [[234  67]\n",
    "                                      [ 53 196]]\n",
    "FOr the Logistic Regression Accuracy Score: 0.7818181818181819\n",
    "\n",
    "\n",
    "Neural Networks: \n",
    "FOr iterations = 200.\n",
    "\n",
    "For the Neural Network Confusion Matrix: [[213  59]\n",
    "                                 [ 74 204]]\n",
    "For the Neural Network ('FOr relu') Accuracy Score: 0.7581818181818182\n",
    "\n",
    "For the Neural Network Confusion Matrix: [[211  64]\n",
    "                                 [ 76 199]]\n",
    "For the Neural Network ('FOr identity') Accuracy Score: 0.7454545454545455\n",
    "\n",
    "For the Neural Network Confusion Matrix: [[216  56]\n",
    "                                 [ 71 207]]\n",
    "For the Neural Network ('For logistic') Accuracy Score: 0.769090909090909\n",
    "\n",
    "For the Neural Network Confusion Matrix: [[210  64]\n",
    "                                 [ 77 199]]\n",
    "For the Neural Network ('For tanh') Accuracy Score: 0.7436363636363637\n",
    "\n",
    "\n",
    "For iterations = 500\n",
    "For the Neural Network Confusion Matrix: [[213  58]\n",
    "                                 [ 74 205]]\n",
    "For the Neural Network ('For relu') Accuracy Score: 0.76\n",
    "\n",
    "For the Neural Network Confusion Matrix: [[212  64]\n",
    "                                 [ 75 199]]\n",
    "For the Neural Network ('For the identity') Accuracy Score: 0.7472727272727273\n",
    "\n",
    "For the Neural Network Confusion Matrix: [[216  59]\n",
    "                                 [ 71 204]]\n",
    "For the Neural Network ('For the logistic') Accuracy Score: 0.7636363636363637\n",
    "\n",
    "For the Neural Network Confusion Matrix: [[209  63]\n",
    "                                 [ 78 200]]\n",
    "For the Neural Network ('For the tanh') Accuracy Score: 0.7436363636363637\n",
    "\n",
    "\n",
    "\n",
    "Based on this we can see that Naive Bayes gives us the best accuracy. It gives us the best ratio of true values \n",
    "against the False values. As you can see the confusion matrix for most of them are similar. But when it comes to Naive Bayes and \n",
    "Logistic Regression it is a little different. based on how you want the output, you should decide what method to follow. \n",
    "\n",
    "'''\n"
   ]
  },
  {
   "cell_type": "code",
   "execution_count": 10,
   "metadata": {},
   "outputs": [
    {
     "name": "stdout",
     "output_type": "stream",
     "text": [
      "Epoch 1/1\n",
      "2198/2198 [==============================] - 0s 148us/step - loss: 2.0866 - accuracy: 0.4891\n",
      "550/550 [==============================] - 0s 94us/step\n",
      "Keras Sequential Model ('relu'): [1.2385457836497913, 0.5218181610107422]\n",
      "Epoch 1/1\n",
      "2198/2198 [==============================] - 0s 82us/step - loss: 7.4992 - accuracy: 0.5109\n",
      "550/550 [==============================] - 0s 55us/step\n",
      "Keras Sequential Model ('softmax'): [8.001162890520963, 0.4781818091869354]\n"
     ]
    }
   ],
   "source": [
    "Model = Sequential()\n",
    "Model.add(Dense(1, input_dim=4690))\n",
    "Model.add(Activation('relu'))\n",
    "Model.compile(optimizer='rmsprop', loss='binary_crossentropy', metrics=['accuracy'])\n",
    "Model.fit(train_vector, trainY)\n",
    "Score = Model.evaluate(test_vector, testY)\n",
    "print(\"Keras Sequential Model ('relu'):\", Score)\n",
    "\n",
    "Model = Sequential()\n",
    "Model.add(Dense(1, input_dim=4690))\n",
    "Model.add(Activation('softmax'))\n",
    "Model.compile(optimizer='rmsprop', loss='binary_crossentropy', metrics=['accuracy'])\n",
    "Model.fit(train_vector, trainY)\n",
    "Score = Model.evaluate(test_vector, testY)\n",
    "print(\"Keras Sequential Model ('softmax'):\", Score)"
   ]
  },
  {
   "cell_type": "code",
   "execution_count": 11,
   "metadata": {},
   "outputs": [
    {
     "data": {
      "text/plain": [
       "'\\nWe have ran multiple models and we have noticed that this is similar to the ones in step 7. This is best seen in relu and Naive Bayes.\\nWe can see this in the COnfusion Matroix for it.\\n'"
      ]
     },
     "execution_count": 11,
     "metadata": {},
     "output_type": "execute_result"
    }
   ],
   "source": [
    "# Question-9\n",
    "'''\n",
    "We have ran multiple models and we have noticed that this is similar to the ones in step 7. This is best seen in relu and Naive Bayes.\n",
    "We can see this in the COnfusion Matroix for it.\n",
    "'''"
   ]
  },
  {
   "cell_type": "code",
   "execution_count": 26,
   "metadata": {},
   "outputs": [
    {
     "name": "stdout",
     "output_type": "stream",
     "text": [
      "[\"You can't relate with them, hell you barely can understand them.  \"\n",
      " \"The instructions didn't explain that a microphone jack could be used.\"\n",
      " \"I liked the way Dustin Hoffman's character was ready to do just about everything to stay with his son.  \"\n",
      " 'I really loved the story line and the poler bear was kinda cute.But if anyone has a question about Fort Steele, just ask away:)  '\n",
      " 'Unfortunately, inexperience of direction meant that scene after scene passed with little in the way of dramatic tension or conflict.  '\n",
      " 'I love this device.'\n",
      " 'The headset fulfills my requirements so I am happy with my purchase.'\n",
      " 'I knew when I saw the film that more great things were to come from this gifted actor.  '\n",
      " \"There was a few pathetic attempts to give the characters some depth, but it didn't really work into the rest of the plot.  \"\n",
      " 'I recently had problems where I could not stay connected for more than 10 minutes before being disconnected.']\n",
      "[0 0 1 1 0 1 1 1 0 0]\n",
      "[\"I'd love to go back.\" 'stay away from this store, be careful.'\n",
      " 'I could care less... The interior is just beautiful.'\n",
      " 'O my gosh the best phone I have ever had.'\n",
      " 'We have gotten a lot of compliments on it.'\n",
      " \"Ordered burger rare came in we'll done.\"\n",
      " 'The decor is nice, and the piano music soundtrack is pleasant.'\n",
      " 'This is truly an art movie--it actually has a lot of art in it.  '\n",
      " 'Excellent product for the price.' 'This is a great little item.']\n",
      "[1 0 1 1 1 0 1 1 1 1]\n",
      "Keras Sequential Model ('relu') using keras_preprocessing text tokenizer: [8.001162890520963, 0.4781818091869354]\n",
      "Keras Sequential Model ('softmax') using keras_preprocessing text tokenizer:: [8.001162890520963, 0.4781818091869354]\n"
     ]
    }
   ],
   "source": [
    "\n",
    "\n",
    "DF = pd.read_csv('train.csv')\n",
    "trainX = DF.loc[:, 'sentence'].values\n",
    "print(trainX[:10])\n",
    "trainY = DF.loc[:, 'label'].values\n",
    "print(trainY[:10])\n",
    "\n",
    "DF = pd.read_csv('test.csv')\n",
    "testX = DF.loc[:, 'sentence'].values\n",
    "print(testX[:10])\n",
    "testY = DF.loc[:, 'label'].values\n",
    "print(testY[:10])\n",
    "\n",
    "def tokenize(text):\n",
    "    tokens = text_to_word_sequence(text)\n",
    "    tokens = [word for word in tokens if not word in stopWords]\n",
    "    return tokens\n",
    "\n",
    "vect = TfidfVectorizer(tokenizer=tokenize, use_idf=True)\n",
    "train_vector = vect.fit_transform(trainX)\n",
    "test_vector = vect.transform(testX)\n",
    "\n",
    "Model = Sequential()\n",
    "Model.add(Dense(1, input_dim=4581))\n",
    "Model.add(Activation('relu'))\n",
    "Model.compile(optimizer='rmsprop', loss='binary_crossentropy', metrics=['accuracy'])\n",
    "print(\"Keras Sequential Model ('relu') using keras_preprocessing text tokenizer:\", Score)\n",
    "\n",
    "Model = Sequential()\n",
    "Model.add(Dense(1, input_dim=4581))\n",
    "Model.add(Activation('softmax'))\n",
    "Model.compile(optimizer='rmsprop', loss='binary_crossentropy', metrics=['accuracy'])\n",
    "print(\"Keras Sequential Model ('softmax') using keras_preprocessing text tokenizer::\", Score)"
   ]
  },
  {
   "cell_type": "code",
   "execution_count": null,
   "metadata": {},
   "outputs": [],
   "source": [
    "# Question 11\n",
    "\n",
    "import matplotlib.pyplot as plt\n",
    "#plot the first image in the dataset\n",
    "plt.imshow(X_train[0])\n",
    "\n",
    "\n",
    "#check image shape\n",
    "X_train[0].shape\n",
    "\n",
    "#reshape data to fit model\n",
    "X_train = X_train.reshape(60000,28,28,1)\n",
    "X_test = X_test.reshape(10000,28,28,1)\n",
    "\n",
    "from keras.utils import to_categorical\n",
    "#one-hot encode target column\n",
    "y_train = to_categorical(y_train)\n",
    "y_test = to_categorical(y_test)\n",
    "y_train[0]"
   ]
  }
 ],
 "metadata": {
  "kernelspec": {
   "display_name": "Python 3",
   "language": "python",
   "name": "python3"
  },
  "language_info": {
   "codemirror_mode": {
    "name": "ipython",
    "version": 3
   },
   "file_extension": ".py",
   "mimetype": "text/x-python",
   "name": "python",
   "nbconvert_exporter": "python",
   "pygments_lexer": "ipython3",
   "version": "3.7.4"
  }
 },
 "nbformat": 4,
 "nbformat_minor": 2
}
